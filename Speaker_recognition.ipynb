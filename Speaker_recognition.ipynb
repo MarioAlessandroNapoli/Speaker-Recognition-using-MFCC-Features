{
 "cells": [
  {
   "cell_type": "markdown",
   "metadata": {},
   "source": [
    "### Importing needed libraries"
   ]
  },
  {
   "cell_type": "code",
   "execution_count": 1,
   "metadata": {},
   "outputs": [],
   "source": [
    "import time\n",
    "import numpy as np\n",
    "from scipy.io import wavfile as wav\n",
    "import IPython.display as ipd\n",
    "import pandas as pd\n",
    "import librosa\n",
    "import librosa.display as lid\n",
    "import tensorflow as tf\n",
    "from tensorflow import keras\n",
    "from tensorflow.keras.models import Sequential\n",
    "from tensorflow.keras.layers import Input, Dense, Activation, Flatten, Conv2D, MaxPooling2D, Dropout\n",
    "from sklearn.metrics import classification_report, confusion_matrix\n",
    "from sklearn.utils import shuffle\n",
    "import matplotlib.pyplot as plt\n",
    "import sounddevice as sd"
   ]
  },
  {
   "cell_type": "markdown",
   "metadata": {},
   "source": [
    "### Defining all our helping function"
   ]
  },
  {
   "cell_type": "code",
   "execution_count": 2,
   "metadata": {},
   "outputs": [],
   "source": [
    "#This function Does the following:\n",
    "# 1) If stereo --> Mono by mean\n",
    "# 2) Low Pass Filter cut at given threshold\n",
    "# 3) Normalize between -1 and 1\n",
    "# 4) Apply sin(pi/2 * x) function to improve loudness and richness of the sound \n",
    "def preprocessAudio(audio):\n",
    "    if len(audio.shape) != 1:                                        \n",
    "        audio = np.mean((audio[:,0],audio[:,1]),axis=0)\n",
    "    # FILTER\n",
    "    FFT = np.fft.rfft(audio)\n",
    "    freq = np.linspace(0,(rate/2),len(FFT))\n",
    "    cutInd = np.where(freq > cutLow)[0][0]\n",
    "    FFT[0:cutInd] = 0\n",
    "    audio = np.fft.irfft(FFT)\n",
    "    #Normalize and compressor\n",
    "    audio = 2.*(audio + np.abs(np.min(audio)))/np.ptp(audio)-1\n",
    "    audio = np.sin(1.57075*audio)\n",
    "    return(audio)\n",
    "\n",
    "\n",
    "def splitAudio(audio):\n",
    "    if len(audio.shape) != 1:                                        \n",
    "        audio = np.mean((audio[:,0],audio[:,1]),axis=0)\n",
    "    steps = int(np.floor((len(audio)/rate/secondStep)))   #Calculate floor steps count\n",
    "    audio = np.array(audio[0:steps*rate*secondStep])\n",
    "    audio = np.array(np.split(audio,steps))\n",
    "    return(audio)\n",
    "    \n",
    "def shuffleAudio(audio):\n",
    "    audio = shuffle(audio)\n",
    "    steps = audio.shape[0]\n",
    "    TTidx = int(steps*.7)                                           #Split percentage declared here\n",
    "    audioTrain = audio[0:TTidx]\n",
    "    audioTest  = audio[TTidx:steps]\n",
    "    return(audioTrain, audioTest)\n",
    "\n",
    "def shuffleAndSplitAudio(audio):\n",
    "    return shuffleAudio(splitAudio(audio))\n",
    "\n",
    "#This function augment the data with some random factors\n",
    "#We have 3 possible transform, random noise within a given factor\n",
    "#Random Stretch within a given factor\n",
    "#Random Pitch shift\n",
    "#The function randomly select 1/2 or all 3 transformation to be applied to the original audio\n",
    "#And the it return the original audio concatenated with the augmented one\n",
    "def augmentData(audio, noise_factor=0.03,stretch_factor=0.4):   \n",
    "    audioAugmented = audio\n",
    "    choice = np.random.randint(1,8)\n",
    "    if choice in [1,4,6,7]:\n",
    "        audioAugmented    = audio + np.random.uniform(0,noise_factor) *np.random.normal(0,1,len(audioAugmented))\n",
    "    if choice in [2,4,5,7]:\n",
    "        stretch = np.random.uniform(-stretch_factor,stretch_factor)\n",
    "        audioAugmented    = librosa.effects.time_stretch(audioAugmented,(1+stretch))\n",
    "        if stretch > 0:               #To return a sample of sampling-rate length even when stretching is applied\n",
    "            audioAugmented = np.concatenate((audioAugmented,np.zeros((rate*secondStep)-len(audioAugmented)))) #Adding zeros to the end if stretch is positive\n",
    "        if stretch < 0:\n",
    "            audioAugmented = audioAugmented[0:(rate*secondStep)]   \n",
    "    if choice in [3,5,6,7]:\n",
    "        audioAugmented    = librosa.effects.pitch_shift(audioAugmented,rate,n_steps=np.random.randint(-2,3))\n",
    "    return(np.hstack((audio,audioAugmented)))\n",
    "\n",
    "#Main function that calls the other ones\n",
    "def audioToSplit(audio1, audio2, audio3, setName):\n",
    "    #Extracting features and label\n",
    "    audio1Data, audio1Label = processAudio(audio1,0,setName)\n",
    "    audio2Data, audio2Label = processAudio(audio2,1,setName)\n",
    "    audio3Data, audio3Label = processAudio(audio3,2,setName)\n",
    "\n",
    "    data = np.concatenate((audio1Data,audio2Data,audio3Data))\n",
    "    label = np.concatenate((audio1Label,audio2Label,audio3Label))\n",
    "    #Shuffle / One-Hot Encoding\n",
    "    label = keras.utils.to_categorical(label, 3)                   #One Hot Encoding\n",
    "    data, label = shuffle(data,label)\n",
    "    return(data,label)\n",
    "\n",
    "\n",
    "def processAudio(audio,label,setName):\n",
    "    data = []\n",
    "    # In this function we preprocess and extract mfcc features for every sample\n",
    "    # If we are processing Training set we will apply data augmentation to our samples\n",
    "    if(setName == 'Train'):\n",
    "        # For each Sample of secondStep length we take the sample and we augment the data\n",
    "        # Then we extract the mfcc for the original sample and the augmented ones\n",
    "        for i in range(0,audio.shape[0]):  \n",
    "            audioSample = audio[i]\n",
    "            audioSample = augmentData(audioSample)\n",
    "            augStep = int((len(audioSample)/rate)/secondStep) \n",
    "            for j in range(0,(augStep)):\n",
    "                audioSamplePiece = audioSample[(rate*(secondStep*j)) : (rate*(secondStep*(j+1)))]\n",
    "                audioSamplePiece = preprocessAudio(audioSamplePiece)\n",
    "                data.append( getFeatures( audioSamplePiece))\n",
    "    #Test set processing just extract the mfcc for every sample\n",
    "    elif(setName == 'Test'):\n",
    "        for i in range(0,audio.shape[0]):\n",
    "            audioSample = audio[i]\n",
    "            audioSample = preprocessAudio(audioSample)\n",
    "            data.append(getFeatures(audioSample))  \n",
    "    else:\n",
    "        print('Wrong set name')\n",
    "        return None\n",
    "    data = np.expand_dims(data, axis=-1)                             \n",
    "    label = np.full(len(data), label)              \n",
    "    return data, label\n",
    " \n",
    "#MFCC is defined with 44 coefficients so that one second of audio will be reduced to a dimension of 44x44\n",
    "#Making it a perfect rectangle, more suited for a convolutional model, increasing the number of coefficients\n",
    "#Also improves the accuracy\n",
    "def getFeatures(audio):\n",
    "    return librosa.feature.mfcc(audio, sr=rate,n_mfcc=44)\n",
    "\n",
    "\n",
    "## Lables and function used to output different kinds of prediction based on argument\n",
    "## given ad audio file this function split and process the data into samples\n",
    "## for each sample gives a prediction and then the most frequent prediction is used\n",
    "## as a prediction for the whole audio clip, passing different arguments we can chose\n",
    "## to have all the info, just the audio or just the prediction\n",
    "\n",
    "labels = {0 : 'Jinping', 1 : 'Putin', 2 : 'Obama', 3 : 'Unknown'}\n",
    "\n",
    "def getPrediction(myrec, arg='all'):\n",
    "    audio = splitAudio(myrec)\n",
    "    predData, _ = processAudio(audio,0,'Test')\n",
    "    samples = predData.shape[0]\n",
    "    pred = []\n",
    "    for i in range(0,samples):\n",
    "        a = np.expand_dims(predData[i],axis=0)\n",
    "        pred.append(np.argmax(model.predict(a)))\n",
    "    if arg == 'audio':\n",
    "        print(pred, '\\nSpeaker -> ',labels[np.argmax(np.bincount(pred))])\n",
    "        filtred = preprocessAudio(myrec)\n",
    "        return filtred\n",
    "    if arg == 'all':\n",
    "        print(pred, '\\nSpeaker -> ',labels[np.argmax(np.bincount(pred))])\n",
    "        filtred = preprocessAudio(myrec)\n",
    "        plt.plot(filtred)\n",
    "        return filtred\n",
    "    elif arg == 'value':\n",
    "        return int(np.argmax(np.bincount(pred)))"
   ]
  },
  {
   "cell_type": "markdown",
   "metadata": {},
   "source": [
    "### Preparing the data for the model"
   ]
  },
  {
   "cell_type": "code",
   "execution_count": 3,
   "metadata": {},
   "outputs": [
    {
     "name": "stderr",
     "output_type": "stream",
     "text": [
      "<ipython-input-3-435724cdc107>:8: WavFileWarning: Chunk (non-data) not understood, skipping it.\n",
      "  _, audio1   = wav.read('Jinping.wav')\n",
      "<ipython-input-3-435724cdc107>:9: WavFileWarning: Chunk (non-data) not understood, skipping it.\n",
      "  _, audio2   = wav.read('Putin.wav')\n",
      "<ipython-input-3-435724cdc107>:10: WavFileWarning: Chunk (non-data) not understood, skipping it.\n",
      "  _, audio3  = wav.read('Obama.wav')\n"
     ]
    }
   ],
   "source": [
    "#Defining global variables\n",
    "rate            = 22050\n",
    "num_classes     = 3\n",
    "secondStep      = 1     #Length in seconds of each Sample\n",
    "cutLow          = 200   #LowPass filter Hz threshold\n",
    "\n",
    "#Loading audio files\n",
    "_, audio1   = wav.read('Jinping.wav')\n",
    "_, audio2   = wav.read('Putin.wav')\n",
    "_, audio3  = wav.read('Obama.wav')"
   ]
  },
  {
   "cell_type": "code",
   "execution_count": 4,
   "metadata": {},
   "outputs": [
    {
     "name": "stdout",
     "output_type": "stream",
     "text": [
      "Shuffling and splitting audio files...\n",
      "Creating augmented training data and split...\n",
      "Creating testing data and split...\n",
      "Wall time: 26.7 s\n"
     ]
    }
   ],
   "source": [
    "%%time\n",
    "#Shuffle / Split Training / Test Audio\n",
    "print('Shuffling and splitting audio files...')\n",
    "Train1,Test1   = shuffleAndSplitAudio(audio1*1.0)\n",
    "Train2,Test2   = shuffleAndSplitAudio(audio2*1.0)\n",
    "Train3,Test3   = shuffleAndSplitAudio(audio3*1.0)\n",
    "\n",
    "#Creating Augmented Training set\n",
    "print('Creating augmented training data and split...')\n",
    "x_train, y_train = audioToSplit(Train1,Train2,Train3,'Train')\n",
    "\n",
    "#Creating Test set\n",
    "print('Creating testing data and split...')\n",
    "x_test, y_test = audioToSplit(Test1,Test2,Test3,'Test')"
   ]
  },
  {
   "cell_type": "code",
   "execution_count": 5,
   "metadata": {},
   "outputs": [
    {
     "name": "stdout",
     "output_type": "stream",
     "text": [
      "train examples:\t 1266 \n",
      "test examples\t 273\n"
     ]
    }
   ],
   "source": [
    "print('train examples:\\t',x_train.shape[0],'\\ntest examples\\t',x_test.shape[0])"
   ]
  },
  {
   "cell_type": "code",
   "execution_count": 6,
   "metadata": {},
   "outputs": [
    {
     "data": {
      "text/plain": [
       "(1266, 44, 44, 1)"
      ]
     },
     "execution_count": 6,
     "metadata": {},
     "output_type": "execute_result"
    }
   ],
   "source": [
    "x_train.shape"
   ]
  },
  {
   "cell_type": "markdown",
   "metadata": {},
   "source": [
    "### Model deploy / train / validation"
   ]
  },
  {
   "cell_type": "code",
   "execution_count": 12,
   "metadata": {},
   "outputs": [
    {
     "name": "stdout",
     "output_type": "stream",
     "text": [
      "Model: \"sequential_2\"\n",
      "_________________________________________________________________\n",
      "Layer (type)                 Output Shape              Param #   \n",
      "=================================================================\n",
      "conv2d_6 (Conv2D)            (None, 44, 44, 16)        160       \n",
      "_________________________________________________________________\n",
      "batch_normalization_6 (Batch (None, 44, 44, 16)        64        \n",
      "_________________________________________________________________\n",
      "average_pooling2d_6 (Average (None, 22, 22, 16)        0         \n",
      "_________________________________________________________________\n",
      "conv2d_7 (Conv2D)            (None, 22, 22, 32)        4640      \n",
      "_________________________________________________________________\n",
      "batch_normalization_7 (Batch (None, 22, 22, 32)        128       \n",
      "_________________________________________________________________\n",
      "average_pooling2d_7 (Average (None, 11, 11, 32)        0         \n",
      "_________________________________________________________________\n",
      "conv2d_8 (Conv2D)            (None, 11, 11, 64)        18496     \n",
      "_________________________________________________________________\n",
      "batch_normalization_8 (Batch (None, 11, 11, 64)        256       \n",
      "_________________________________________________________________\n",
      "average_pooling2d_8 (Average (None, 5, 5, 64)          0         \n",
      "_________________________________________________________________\n",
      "flatten_2 (Flatten)          (None, 1600)              0         \n",
      "_________________________________________________________________\n",
      "dense_7 (Dense)              (None, 100)               160100    \n",
      "_________________________________________________________________\n",
      "dropout_5 (Dropout)          (None, 100)               0         \n",
      "_________________________________________________________________\n",
      "dense_8 (Dense)              (None, 100)               10100     \n",
      "_________________________________________________________________\n",
      "dropout_6 (Dropout)          (None, 100)               0         \n",
      "_________________________________________________________________\n",
      "dense_9 (Dense)              (None, 3)                 303       \n",
      "=================================================================\n",
      "Total params: 194,247\n",
      "Trainable params: 194,023\n",
      "Non-trainable params: 224\n",
      "_________________________________________________________________\n"
     ]
    }
   ],
   "source": [
    "input_shape = x_train.shape[1:]\n",
    "#Declaring, compiling, and running the model\n",
    "model = keras.Sequential(\n",
    "    [\n",
    "        keras.layers.Input(shape=input_shape, name='input'),\n",
    "        \n",
    "        keras.layers.Conv2D( 16,(3,3), padding=\"same\",activation='relu'),\n",
    "        keras.layers.BatchNormalization(),\n",
    "        keras.layers.AveragePooling2D(pool_size=(2,2), strides=2),\n",
    "        \n",
    "        keras.layers.Conv2D( 32,(3,3), padding=\"same\",activation='relu'),\n",
    "        keras.layers.BatchNormalization(),\n",
    "        keras.layers.AveragePooling2D(pool_size=(2,2), strides=2),\n",
    "        \n",
    "        keras.layers.Conv2D( 64,(3,3), padding=\"same\",activation='relu'),\n",
    "        keras.layers.BatchNormalization(),\n",
    "        keras.layers.AveragePooling2D(pool_size=(2,2), strides=2),\n",
    "        \n",
    "        keras.layers.Flatten(),\n",
    "        \n",
    "        keras.layers.Dense(100,kernel_regularizer=keras.regularizers.l1_l2(l1=1e-5, l2=1e-4),bias_regularizer=keras.regularizers.l2(1e-4),activity_regularizer=keras.regularizers.l2(1e-5)),\n",
    "        keras.layers.Dropout(0.3),\n",
    "        keras.layers.Dense(100,kernel_regularizer=keras.regularizers.l1_l2(l1=1e-5, l2=1e-4),bias_regularizer=keras.regularizers.l2(1e-4),activity_regularizer=keras.regularizers.l2(1e-5)),\n",
    "        keras.layers.Dropout(0.3),\n",
    "        keras.layers.Dense(num_classes, activation='softmax')\n",
    "    ]\n",
    ")\n",
    "\n",
    "model.summary()"
   ]
  },
  {
   "cell_type": "markdown",
   "metadata": {},
   "source": [
    "### Fast training stage"
   ]
  },
  {
   "cell_type": "code",
   "execution_count": 13,
   "metadata": {},
   "outputs": [
    {
     "name": "stdout",
     "output_type": "stream",
     "text": [
      "Epoch 1/100\n",
      "Epoch 2/100\n",
      "Epoch 3/100\n",
      "Epoch 4/100\n",
      "Epoch 5/100\n",
      "Epoch 6/100\n",
      "Epoch 7/100\n",
      "Epoch 8/100\n",
      "Epoch 9/100\n",
      "Epoch 10/100\n",
      "Epoch 11/100\n",
      "Epoch 12/100\n",
      "Epoch 13/100\n",
      "Epoch 14/100\n",
      "Epoch 15/100\n",
      "Epoch 16/100\n",
      "Epoch 17/100\n",
      "Epoch 18/100\n",
      "Epoch 19/100\n",
      "Epoch 20/100\n",
      "Epoch 21/100\n",
      "Epoch 22/100\n",
      "Epoch 23/100\n",
      "Epoch 24/100\n",
      "Epoch 25/100\n",
      "Epoch 26/100\n",
      "Epoch 27/100\n",
      "Epoch 28/100\n",
      "Epoch 29/100\n",
      "Epoch 30/100\n",
      "Epoch 31/100\n",
      "Epoch 32/100\n",
      "Epoch 33/100\n",
      "Epoch 34/100\n",
      "Epoch 35/100\n",
      "Epoch 36/100\n",
      "Epoch 37/100\n",
      "Epoch 38/100\n",
      "Epoch 39/100\n",
      "Epoch 40/100\n",
      "Epoch 41/100\n",
      "Epoch 42/100\n",
      "Epoch 43/100\n",
      "Epoch 44/100\n",
      "Epoch 45/100\n",
      "Epoch 46/100\n",
      "Epoch 47/100\n",
      "Epoch 48/100\n",
      "Epoch 49/100\n",
      "Epoch 50/100\n",
      "Epoch 51/100\n",
      "Epoch 52/100\n",
      "Epoch 53/100\n",
      "Epoch 54/100\n",
      "Epoch 55/100\n",
      "Epoch 56/100\n",
      "Epoch 57/100\n",
      "Epoch 58/100\n",
      "Epoch 59/100\n",
      "Epoch 60/100\n",
      "Epoch 61/100\n",
      "Epoch 62/100\n",
      "Epoch 63/100\n",
      "Epoch 64/100\n",
      "Epoch 65/100\n",
      "Epoch 66/100\n",
      "Epoch 67/100\n",
      "Epoch 68/100\n",
      "Epoch 69/100\n",
      "Epoch 70/100\n",
      "Epoch 71/100\n",
      "Epoch 72/100\n",
      "Epoch 73/100\n",
      "Epoch 74/100\n",
      "Epoch 75/100\n",
      "Epoch 76/100\n",
      "Epoch 77/100\n",
      "Epoch 78/100\n",
      "Epoch 79/100\n",
      "Epoch 80/100\n",
      "Epoch 81/100\n",
      "Epoch 82/100\n",
      "Epoch 83/100\n",
      "Epoch 84/100\n",
      "Epoch 85/100\n",
      "Epoch 86/100\n",
      "Epoch 87/100\n",
      "Epoch 88/100\n",
      "Epoch 89/100\n",
      "Epoch 90/100\n",
      "Epoch 91/100\n",
      "Epoch 92/100\n",
      "Epoch 93/100\n",
      "Epoch 94/100\n",
      "Epoch 95/100\n",
      "Epoch 96/100\n",
      "Epoch 97/100\n",
      "Epoch 98/100\n",
      "Epoch 99/100\n",
      "Epoch 100/100\n",
      "Wall time: 16.6 s\n"
     ]
    }
   ],
   "source": [
    "%%time\n",
    "model.compile(loss = keras.losses.categorical_crossentropy,\n",
    "             optimizer = keras.optimizers.Adam(),\n",
    "             metrics = ['accuracy'])\n",
    "\n",
    "history = model.fit(x_train, y_train,\n",
    "          batch_size=256,\n",
    "          epochs=100,\n",
    "          verbose=3,\n",
    "          validation_data=(x_test,y_test)\n",
    "         )"
   ]
  },
  {
   "cell_type": "code",
   "execution_count": 14,
   "metadata": {},
   "outputs": [
    {
     "data": {
      "image/png": "[encoded data removed]",
      "text/plain": [
       "<Figure size 432x288 with 1 Axes>"
      ]
     },
     "metadata": {
      "needs_background": "light"
     },
     "output_type": "display_data"
    },
    {
     "data": {
      "image/png": "[encoded data removed]",
      "text/plain": [
       "<Figure size 432x288 with 1 Axes>"
      ]
     },
     "metadata": {
      "needs_background": "light"
     },
     "output_type": "display_data"
    }
   ],
   "source": [
    "# summarize history for accuracy\n",
    "plt.plot(history.history['accuracy'])\n",
    "plt.plot(history.history['val_accuracy'])\n",
    "plt.title('model accuracy')\n",
    "plt.ylabel('accuracy')\n",
    "plt.xlabel('epoch')\n",
    "plt.legend(['train', 'test'], loc='upper left')\n",
    "plt.show()\n",
    "# summarize history for loss\n",
    "plt.plot(history.history['loss'])\n",
    "plt.plot(history.history['val_loss'])\n",
    "plt.title('model loss')\n",
    "plt.ylabel('loss')\n",
    "plt.xlabel('epoch')\n",
    "plt.legend(['train', 'test'], loc='upper left')\n",
    "plt.show()"
   ]
  },
  {
   "cell_type": "markdown",
   "metadata": {},
   "source": [
    "### Slow training stage"
   ]
  },
  {
   "cell_type": "code",
   "execution_count": 15,
   "metadata": {},
   "outputs": [
    {
     "name": "stdout",
     "output_type": "stream",
     "text": [
      "Epoch 1/25\n",
      "3/3 [==============================] - 2s 329ms/step - loss: 0.0812 - accuracy: 1.0000 - val_loss: 0.0929 - val_accuracy: 0.9927\n",
      "Epoch 2/25\n",
      "3/3 [==============================] - 0s 48ms/step - loss: 0.0806 - accuracy: 1.0000 - val_loss: 0.0927 - val_accuracy: 0.9963\n",
      "Epoch 3/25\n",
      "3/3 [==============================] - 0s 53ms/step - loss: 0.0806 - accuracy: 1.0000 - val_loss: 0.0990 - val_accuracy: 0.9963\n",
      "Epoch 4/25\n",
      "3/3 [==============================] - 0s 49ms/step - loss: 0.0800 - accuracy: 1.0000 - val_loss: 0.1086 - val_accuracy: 0.9927\n",
      "Epoch 5/25\n",
      "3/3 [==============================] - 0s 48ms/step - loss: 0.0796 - accuracy: 1.0000 - val_loss: 0.0991 - val_accuracy: 0.9927\n",
      "Epoch 6/25\n",
      "3/3 [==============================] - 0s 50ms/step - loss: 0.0793 - accuracy: 1.0000 - val_loss: 0.0934 - val_accuracy: 0.9927\n",
      "Epoch 7/25\n",
      "3/3 [==============================] - 0s 52ms/step - loss: 0.0791 - accuracy: 1.0000 - val_loss: 0.0935 - val_accuracy: 0.9927\n",
      "Epoch 8/25\n",
      "3/3 [==============================] - 0s 49ms/step - loss: 0.0787 - accuracy: 1.0000 - val_loss: 0.1022 - val_accuracy: 0.9963\n",
      "Epoch 9/25\n",
      "3/3 [==============================] - 0s 50ms/step - loss: 0.0785 - accuracy: 1.0000 - val_loss: 0.0954 - val_accuracy: 0.9963\n",
      "Epoch 10/25\n",
      "3/3 [==============================] - 0s 54ms/step - loss: 0.0782 - accuracy: 1.0000 - val_loss: 0.0893 - val_accuracy: 0.9927\n",
      "Epoch 11/25\n",
      "3/3 [==============================] - 0s 50ms/step - loss: 0.0779 - accuracy: 1.0000 - val_loss: 0.0890 - val_accuracy: 0.9927\n",
      "Epoch 12/25\n",
      "3/3 [==============================] - 0s 53ms/step - loss: 0.0772 - accuracy: 1.0000 - val_loss: 0.0945 - val_accuracy: 0.9963\n",
      "Epoch 13/25\n",
      "3/3 [==============================] - 0s 48ms/step - loss: 0.0769 - accuracy: 1.0000 - val_loss: 0.1002 - val_accuracy: 0.9927\n",
      "Epoch 14/25\n",
      "3/3 [==============================] - 0s 48ms/step - loss: 0.0770 - accuracy: 1.0000 - val_loss: 0.0910 - val_accuracy: 0.9963\n",
      "Epoch 15/25\n",
      "3/3 [==============================] - 0s 49ms/step - loss: 0.0762 - accuracy: 1.0000 - val_loss: 0.0879 - val_accuracy: 0.9963\n",
      "Epoch 16/25\n",
      "3/3 [==============================] - 0s 50ms/step - loss: 0.0760 - accuracy: 1.0000 - val_loss: 0.0890 - val_accuracy: 0.9927\n",
      "Epoch 17/25\n",
      "3/3 [==============================] - 0s 47ms/step - loss: 0.0757 - accuracy: 1.0000 - val_loss: 0.0948 - val_accuracy: 0.9963\n",
      "Epoch 18/25\n",
      "3/3 [==============================] - 0s 49ms/step - loss: 0.0753 - accuracy: 1.0000 - val_loss: 0.0931 - val_accuracy: 0.9927\n",
      "Epoch 19/25\n",
      "3/3 [==============================] - 0s 51ms/step - loss: 0.0750 - accuracy: 1.0000 - val_loss: 0.0906 - val_accuracy: 0.9890\n",
      "Epoch 20/25\n",
      "3/3 [==============================] - 0s 49ms/step - loss: 0.0745 - accuracy: 1.0000 - val_loss: 0.0873 - val_accuracy: 0.9963\n",
      "Epoch 21/25\n",
      "3/3 [==============================] - 0s 52ms/step - loss: 0.0742 - accuracy: 1.0000 - val_loss: 0.0873 - val_accuracy: 0.9963\n",
      "Epoch 22/25\n",
      "3/3 [==============================] - 0s 50ms/step - loss: 0.0739 - accuracy: 1.0000 - val_loss: 0.0877 - val_accuracy: 0.9963\n",
      "Epoch 23/25\n",
      "3/3 [==============================] - 0s 51ms/step - loss: 0.0735 - accuracy: 1.0000 - val_loss: 0.0894 - val_accuracy: 0.9963\n",
      "Epoch 24/25\n",
      "3/3 [==============================] - 0s 50ms/step - loss: 0.0733 - accuracy: 1.0000 - val_loss: 0.0858 - val_accuracy: 0.9963\n",
      "Epoch 25/25\n",
      "3/3 [==============================] - 0s 57ms/step - loss: 0.0728 - accuracy: 1.0000 - val_loss: 0.0840 - val_accuracy: 0.9927\n",
      "[[91  0  0]\n",
      " [ 1 90  0]\n",
      " [ 0  1 90]]\n",
      "              precision    recall  f1-score   support\n",
      "\n",
      "           0       0.99      1.00      0.99        91\n",
      "           1       0.99      0.99      0.99        91\n",
      "           2       1.00      0.99      0.99        91\n",
      "\n",
      "    accuracy                           0.99       273\n",
      "   macro avg       0.99      0.99      0.99       273\n",
      "weighted avg       0.99      0.99      0.99       273\n",
      "\n"
     ]
    },
    {
     "data": {
      "text/plain": [
       "<matplotlib.image.AxesImage at 0x13598132760>"
      ]
     },
     "execution_count": 15,
     "metadata": {},
     "output_type": "execute_result"
    },
    {
     "data": {
      "image/png": "[encoded data removed]",
      "text/plain": [
       "<Figure size 432x288 with 1 Axes>"
      ]
     },
     "metadata": {
      "needs_background": "light"
     },
     "output_type": "display_data"
    }
   ],
   "source": [
    "model.compile(loss = keras.losses.categorical_crossentropy,\n",
    "             optimizer = keras.optimizers.Adam(learning_rate=0.0001),\n",
    "             metrics = ['accuracy'])\n",
    "\n",
    "history = model.fit(x_train, y_train,\n",
    "          batch_size=512,\n",
    "          epochs=25,\n",
    "          verbose=1,\n",
    "          validation_data=(x_test,y_test)\n",
    "         )\n",
    "#Result report\n",
    "y_pred = model.predict(x_test)\n",
    "y_pred = np.argmax(y_pred, axis=1)\n",
    "y_test_raw = np.argmax(y_test, axis=1)\n",
    "cm = confusion_matrix(y_test_raw, y_pred)\n",
    "print(cm)\n",
    "print(classification_report(y_test_raw, y_pred))\n",
    "plt.imshow(cm, cmap=plt.cm.Blues)"
   ]
  },
  {
   "cell_type": "markdown",
   "metadata": {},
   "source": [
    "### Model Demo"
   ]
  },
  {
   "cell_type": "markdown",
   "metadata": {},
   "source": [
    "### Create an audio file for prediction"
   ]
  },
  {
   "cell_type": "markdown",
   "metadata": {},
   "source": [
    "##### From live recording"
   ]
  },
  {
   "cell_type": "markdown",
   "metadata": {},
   "source": [
    "###### Run the cell and start talking for 5 seconds, once the time is passed the array 'myrec' will be filled with the values and the cell below can be run"
   ]
  },
  {
   "cell_type": "code",
   "execution_count": null,
   "metadata": {},
   "outputs": [],
   "source": [
    "#This cell will start a recording of 5 times the secondStep declared, in this case just 5 seconds\n",
    "myrec = sd.rec(int(secondStep * rate * 7), samplerate=rate, channels=2)"
   ]
  },
  {
   "cell_type": "markdown",
   "metadata": {},
   "source": [
    "##### Or from presaved data"
   ]
  },
  {
   "cell_type": "code",
   "execution_count": null,
   "metadata": {},
   "outputs": [],
   "source": [
    "#_, myrec   = wav.read('Data\\\\Audio\\\\Validation\\\\PietroTest.wav')"
   ]
  },
  {
   "cell_type": "markdown",
   "metadata": {},
   "source": [
    "##### original sound:"
   ]
  },
  {
   "cell_type": "code",
   "execution_count": null,
   "metadata": {},
   "outputs": [],
   "source": [
    "ipd.Audio(myrec[:,0],rate=rate)"
   ]
  },
  {
   "cell_type": "markdown",
   "metadata": {},
   "source": [
    "##### this cell will split myrec, preprocess every sample and predict each sample, then the mode of the prediction is taken as our guess "
   ]
  },
  {
   "cell_type": "code",
   "execution_count": null,
   "metadata": {},
   "outputs": [],
   "source": [
    "ipd.Audio(getPrediction(myrec),rate=rate)"
   ]
  },
  {
   "cell_type": "markdown",
   "metadata": {},
   "source": [
    "\n",
    "#### We can use this cell to run a live demo"
   ]
  },
  {
   "cell_type": "code",
   "execution_count": 19,
   "metadata": {},
   "outputs": [
    {
     "name": "stdout",
     "output_type": "stream",
     "text": [
      "Last  7  seconds prediction:  [1 1 1 1 1 1 1] Last speaker:  Putin               "
     ]
    }
   ],
   "source": [
    "winLen = 7\n",
    "winPred = np.full(winLen,3, dtype = np.int8)\n",
    "try:\n",
    "    while True:\n",
    "        myrec = sd.rec(int(secondStep * rate), samplerate=rate, channels=1)[:,0]\n",
    "        time.sleep(secondStep + .1)\n",
    "        pred = getPrediction(myrec,'value')\n",
    "        winPred = np.roll(winPred,-1)\n",
    "        winPred[(winLen-1)] = pred\n",
    "        name = labels[np.argmax(np.bincount(winPred))]\n",
    "        print('\\rLast ',winLen,' seconds prediction: ',winPred,'Last speaker: ',name, end='             ')\n",
    "except KeyboardInterrupt:\n",
    "    pass"
   ]
  },
  {
   "cell_type": "markdown",
   "metadata": {},
   "source": [
    "#### The model is also acceptable robust to all sort of disturbed sound"
   ]
  },
  {
   "cell_type": "code",
   "execution_count": null,
   "metadata": {},
   "outputs": [],
   "source": [
    "myrec   = sd.rec(int(secondStep * rate * 7), samplerate=rate, channels=2)"
   ]
  },
  {
   "cell_type": "code",
   "execution_count": null,
   "metadata": {},
   "outputs": [],
   "source": [
    "ipd.Audio(myrec[:,0],rate=rate)"
   ]
  },
  {
   "cell_type": "code",
   "execution_count": null,
   "metadata": {},
   "outputs": [],
   "source": [
    "#Light Noise\n",
    "audioAugmented   = preprocessAudio(myrec)\n",
    "audioAugmented    = audioAugmented + np.random.uniform(0,0.02) *np.random.normal(0,1,len(audioAugmented))\n",
    "\n",
    "ipd.Audio(getPrediction(audioAugmented, 'audio'),rate=rate)"
   ]
  },
  {
   "cell_type": "code",
   "execution_count": null,
   "metadata": {},
   "outputs": [],
   "source": [
    "#Heavy Noise\n",
    "audioAugmented   = preprocessAudio(myrec)\n",
    "audioAugmented    = audioAugmented + np.random.uniform(0,0.1) *np.random.normal(0,1,len(audioAugmented))\n",
    "\n",
    "ipd.Audio(getPrediction(audioAugmented, 'audio'),rate=rate)"
   ]
  },
  {
   "cell_type": "code",
   "execution_count": null,
   "metadata": {},
   "outputs": [],
   "source": [
    "#Moderate noise with negative time stretch and pitch shift \n",
    "audioAugmented   = preprocessAudio(myrec)\n",
    "audioAugmented    = audioAugmented + np.random.uniform(0,0.05) *np.random.normal(0,1,len(audioAugmented))\n",
    "audioAugmented    = librosa.effects.time_stretch(audioAugmented,0.8)\n",
    "audioAugmented    = librosa.effects.pitch_shift(audioAugmented,rate,n_steps=-2)\n",
    "\n",
    "ipd.Audio(getPrediction(audioAugmented,'audio'),rate=rate)"
   ]
  },
  {
   "cell_type": "code",
   "execution_count": null,
   "metadata": {},
   "outputs": [],
   "source": [
    "#Moderate noise with positive time stretch and pitch shift \n",
    "audioAugmented   = preprocessAudio(myrec)\n",
    "audioAugmented    = audioAugmented + np.random.uniform(0,0.05) *np.random.normal(0,1,len(audioAugmented))\n",
    "audioAugmented    = librosa.effects.time_stretch(audioAugmented,1.2)\n",
    "audioAugmented    = librosa.effects.pitch_shift(audioAugmented,rate,n_steps=+2)\n",
    "\n",
    "ipd.Audio(getPrediction(audioAugmented,'audio'),rate=rate)"
   ]
  }
 ],
 "metadata": {
  "kernelspec": {
   "display_name": "Python 3",
   "language": "python",
   "name": "python3"
  },
  "language_info": {
   "codemirror_mode": {
    "name": "ipython",
    "version": 3
   },
   "file_extension": ".py",
   "mimetype": "text/x-python",
   "name": "python",
   "nbconvert_exporter": "python",
   "pygments_lexer": "ipython3",
   "version": "3.8.5"
  }
 },
 "nbformat": 4,
 "nbformat_minor": 4
}
